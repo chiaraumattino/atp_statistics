{
 "cells": [
  {
   "cell_type": "markdown",
   "metadata": {},
   "source": [
    "## ATP NN"
   ]
  },
  {
   "cell_type": "markdown",
   "metadata": {},
   "source": [
    "# Opening the Data"
   ]
  },
  {
   "cell_type": "code",
   "execution_count": 2,
   "metadata": {},
   "outputs": [],
   "source": [
    "import json\n",
    "\n",
    "N = 1500\n",
    "date = '2018-08-27'\n",
    "name = 'atp_python_' + date + '_1-' + str(N) + '.json'\n",
    "\n",
    "with open(name) as d:\n",
    "    players = [json.loads(line) for line in d]"
   ]
  },
  {
   "cell_type": "markdown",
   "metadata": {},
   "source": [
    "# Height and Weight Study"
   ]
  },
  {
   "cell_type": "code",
   "execution_count": 5,
   "metadata": {},
   "outputs": [],
   "source": [
    "study_NN = []\n",
    "\n",
    "for i in range(0, len(players)):\n",
    "    if 'height' in players[i].keys():\n",
    "        if 'weight' in players[i].keys():\n",
    "            if 'prize' in players[i].keys():\n",
    "                rank = i + 1\n",
    "                height = players[i]['height']\n",
    "                weight = players[i]['weight']\n",
    "                prize = players[i]['prize']\n",
    "                \n",
    "                # Taking out the weird zeros\n",
    "                if height >= 50 and weight >= 50:\n",
    "                    study_NN.append([rank, height, weight, prize])"
   ]
  },
  {
   "cell_type": "markdown",
   "metadata": {},
   "source": [
    "### First Prototype"
   ]
  },
  {
   "cell_type": "code",
   "execution_count": 6,
   "metadata": {},
   "outputs": [
    {
     "name": "stdout",
     "output_type": "stream",
     "text": [
      "Train on 954 samples, validate on 107 samples\n",
      "Epoch 1/4\n",
      "954/954 [==============================] - 0s 316us/step - loss: 13.5838 - acc: 0.1572 - val_loss: 13.4066 - val_acc: 0.1682\n",
      "Epoch 2/4\n",
      "954/954 [==============================] - 0s 36us/step - loss: 13.5838 - acc: 0.1572 - val_loss: 13.4066 - val_acc: 0.1682\n",
      "Epoch 3/4\n",
      "954/954 [==============================] - 0s 36us/step - loss: 13.5838 - acc: 0.1572 - val_loss: 13.4066 - val_acc: 0.1682\n",
      "Epoch 4/4\n",
      "954/954 [==============================] - 0s 36us/step - loss: 13.5838 - acc: 0.1572 - val_loss: 13.4066 - val_acc: 0.1682\n"
     ]
    }
   ],
   "source": [
    "study_NN_shuffled = study_NN[:]\n",
    "shuffle(study_NN_shuffled)\n",
    "\n",
    "rank = [i for i,_,_,_ in study_NN_shuffled]\n",
    "\n",
    "# Predictors\n",
    "hw = [[i,j] for _,i,j,_ in study_NN_shuffled]\n",
    "hw_a = array(hw)\n",
    "\n",
    "# Target\n",
    "cap = 10**6\n",
    "prize_cap = [1 if k >= cap else 0 for _,_,_,k in study_NN_shuffled]\n",
    "prize_a = array(prize_cap)\n",
    "prize_a_bin = to_categorical(prize_a)\n",
    "\n",
    "# The Model\n",
    "model = Sequential()\n",
    "model.add(Dense(20, activation = 'relu', input_shape = (2,)))\n",
    "model.add(Dense(20, activation = 'relu'))\n",
    "# model.add(Dense(10, activation = 'relu'))\n",
    "model.add(Dense(2))\n",
    "model.compile(optimizer = 'adam', loss = 'categorical_crossentropy', metrics = ['accuracy'])\n",
    "model_training = model.fit(x = hw_a, y = prize_a_bin, epochs = 4, validation_split = 0.1)"
   ]
  },
  {
   "cell_type": "markdown",
   "metadata": {},
   "source": [
    "## Final Version\n",
    "\n",
    "With more proper train and test sets"
   ]
  },
  {
   "cell_type": "code",
   "execution_count": 7,
   "metadata": {},
   "outputs": [],
   "source": [
    "from random import shuffle\n",
    "from numpy import array\n",
    "from keras.utils import to_categorical\n",
    "from keras.layers import Dense\n",
    "from keras.models import Sequential\n",
    "from random import choice\n",
    "\n",
    "study_NN_shuffled = study_NN[:]\n",
    "shuffle(study_NN_shuffled)\n",
    "\n",
    "rank = [i for i,_,_,_ in study_NN_shuffled]\n",
    "prize = [i for _,_,_,i in study_NN_shuffled]\n",
    "\n",
    "# Predictors\n",
    "hw = [[i,j] for _,i,j,_ in study_NN_shuffled]\n",
    "hw_a = array(hw)\n",
    "\n",
    "# Target\n",
    "cap = 10**6\n",
    "prize_cap = [1 if k >= cap else 0 for _,_,_,k in study_NN_shuffled]\n",
    "prize_a = array(prize_cap)\n",
    "prize_a_bin = to_categorical(prize_a)\n",
    "\n",
    "# Randomly Selecting 16 Millionaires\n",
    "\n",
    "index_million = []\n",
    "for i in range(0,len(prize_cap)):\n",
    "    if prize_cap[i] == 1:\n",
    "        index_million.append(i)\n",
    "\n",
    "choices_M_list = []\n",
    "for i in range(0, 16):\n",
    "    choices = choice(index_million)\n",
    "    choices_M_list.append(choices)\n",
    "    index_million.remove(choices)\n",
    "    \n",
    "# Randomly Selecting 91 non millionaires\n",
    "\n",
    "index_non_million = []\n",
    "for i in range(0,len(prize_cap)):\n",
    "    if prize_cap[i] == 0:\n",
    "        index_non_million.append(i)\n",
    "        \n",
    "choices_NM_list = []\n",
    "for i in range(0, 91):\n",
    "    choices = choice(index_non_million)\n",
    "    choices_NM_list.append(choices)\n",
    "    index_non_million.remove(choices)\n",
    "    \n",
    "# Building the test and train sets\n",
    "\n",
    "hw_train = hw[:]\n",
    "hw_test = []\n",
    "prize_cap_train = prize_cap[:]\n",
    "prize_cap_test = []\n",
    "for i in choices_M_list:\n",
    "    hw_test.append(hw[i])\n",
    "    hw_train.remove(hw[i])\n",
    "    prize_cap_test.append(prize_cap[i])\n",
    "    prize_cap_train.remove(prize_cap[i])\n",
    "    \n",
    "for i in choices_NM_list:\n",
    "    hw_test.append(hw[i])\n",
    "    hw_train.remove(hw[i])\n",
    "    prize_cap_test.append(prize_cap[i])\n",
    "    prize_cap_train.remove(prize_cap[i])\n",
    "    \n",
    "hw_train = array(hw_train)\n",
    "hw_test = array(hw_test)\n",
    "prize_cap_train = to_categorical(array(prize_cap_train))\n",
    "prize_cap_test = to_categorical(array(prize_cap_test))"
   ]
  },
  {
   "cell_type": "markdown",
   "metadata": {},
   "source": [
    "## The Model"
   ]
  },
  {
   "cell_type": "code",
   "execution_count": null,
   "metadata": {},
   "outputs": [],
   "source": [
    "# The Model\n",
    "model = Sequential()\n",
    "model.add(Dense(30, activation = 'relu', input_shape = (2,)))\n",
    "model.add(Dense(30, activation = 'relu'))\n",
    "# model.add(Dense(10, activation = 'relu'))\n",
    "model.add(Dense(2))\n",
    "model.compile(optimizer = 'adam', loss = 'categorical_crossentropy', metrics = ['accuracy'])\n",
    "model_training = model.fit(x = hw_train, y = prize_cap_train, epochs = 4, validation_data = (hw_test, prize_cap_test))"
   ]
  }
 ],
 "metadata": {
  "kernelspec": {
   "display_name": "Python 3",
   "language": "python",
   "name": "python3"
  },
  "language_info": {
   "codemirror_mode": {
    "name": "ipython",
    "version": 3
   },
   "file_extension": ".py",
   "mimetype": "text/x-python",
   "name": "python",
   "nbconvert_exporter": "python",
   "pygments_lexer": "ipython3",
   "version": "3.6.5"
  }
 },
 "nbformat": 4,
 "nbformat_minor": 2
}
