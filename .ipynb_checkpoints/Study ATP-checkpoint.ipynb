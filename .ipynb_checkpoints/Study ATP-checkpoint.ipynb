{
 "cells": [
  {
   "cell_type": "markdown",
   "metadata": {},
   "source": [
    "## Opening the Data"
   ]
  },
  {
   "cell_type": "code",
   "execution_count": 4,
   "metadata": {},
   "outputs": [],
   "source": [
    "import json\n",
    "\n",
    "N = 1500\n",
    "date = '2018-08-27'\n",
    "name = 'atp_python_' + date + '_1-' + str(N) + '.json'\n",
    "\n",
    "with open(name) as d:\n",
    "    players = [json.loads(line) for line in d]"
   ]
  },
  {
   "cell_type": "markdown",
   "metadata": {},
   "source": [
    "# Height and Weight vs Prize Study"
   ]
  },
  {
   "cell_type": "code",
   "execution_count": 11,
   "metadata": {},
   "outputs": [
    {
     "data": {
      "text/plain": [
       "1061"
      ]
     },
     "execution_count": 11,
     "metadata": {},
     "output_type": "execute_result"
    }
   ],
   "source": [
    "study = []\n",
    "\n",
    "for i in range(0, len(players)):\n",
    "    if 'height' in players[i].keys():\n",
    "        if 'weight' in players[i].keys():\n",
    "            if 'prize' in players[i].keys():\n",
    "                rank = i + 1\n",
    "                height = players[i]['height']\n",
    "                weight = players[i]['weight']\n",
    "                prize = players[i]['prize']\n",
    "                \n",
    "                # Taking out the weird zeros\n",
    "                if height >= 50 and weight >= 50:\n",
    "                    study.append([rank, height, weight, prize])\n",
    "                \n",
    "len(study)"
   ]
  },
  {
   "cell_type": "markdown",
   "metadata": {},
   "source": [
    "## Prize vs Rank"
   ]
  },
  {
   "cell_type": "code",
   "execution_count": 9,
   "metadata": {
    "scrolled": true
   },
   "outputs": [
    {
     "data": {
      "text/plain": [
       "<matplotlib.collections.PathCollection at 0x1a3b055ca20>"
      ]
     },
     "execution_count": 9,
     "metadata": {},
     "output_type": "execute_result"
    },
    {
     "data": {
      "image/png": "[encoded data removed]",
      "text/plain": [
       "<Figure size 432x288 with 1 Axes>"
      ]
     },
     "metadata": {},
     "output_type": "display_data"
    }
   ],
   "source": [
    "import numpy as np\n",
    "import matplotlib.pyplot as plt\n",
    "\n",
    "# Getting the filthy rich out\n",
    "cap = 40*10**6\n",
    "study_NFR = [[i,j,k,l] for i,j,k,l in study if l < cap]\n",
    "\n",
    "prize = [i/10**3 for _,_,_,i in study_NFR]\n",
    "weight = [j for _,_,j,_ in study_NFR]\n",
    "rank = [k for k,_,_,_ in study_NFR]\n",
    "\n",
    "plt.scatter(rank, prize)"
   ]
  },
  {
   "cell_type": "markdown",
   "metadata": {},
   "source": [
    "## Histogram of Weight and Height"
   ]
  },
  {
   "cell_type": "code",
   "execution_count": 10,
   "metadata": {},
   "outputs": [
    {
     "data": {
      "text/plain": [
       "(array([  1.,   0.,   8.,  11.,  25., 100.,  56., 175., 168., 145., 143.,\n",
       "        118.,  47.,  28.,  18.,   9.,   2.,   3.,   3.,   1.]),\n",
       " array([ 54. ,  56.7,  59.4,  62.1,  64.8,  67.5,  70.2,  72.9,  75.6,\n",
       "         78.3,  81. ,  83.7,  86.4,  89.1,  91.8,  94.5,  97.2,  99.9,\n",
       "        102.6, 105.3, 108. ]),\n",
       " <a list of 20 Patch objects>)"
      ]
     },
     "execution_count": 10,
     "metadata": {},
     "output_type": "execute_result"
    },
    {
     "name": "stderr",
     "output_type": "stream",
     "text": [
      "C:\\Users\\Philippe\\Anaconda3\\lib\\site-packages\\matplotlib\\figure.py:2267: UserWarning: This figure includes Axes that are not compatible with tight_layout, so results might be incorrect.\n",
      "  warnings.warn(\"This figure includes Axes that are not compatible \"\n"
     ]
    },
    {
     "data": {
      "image/png": "[encoded data removed]",
      "text/plain": [
       "<Figure size 432x288 with 2 Axes>"
      ]
     },
     "metadata": {},
     "output_type": "display_data"
    }
   ],
   "source": [
    "height = [i for _,i,_,_ in study]\n",
    "weight = [j for _,_,j,_ in study]\n",
    "rank = [k for k,_,_,_ in study]\n",
    "\n",
    "n_bins = 20\n",
    "\n",
    "fig, axs = plt.subplots(1, 2, sharey=True, tight_layout=True)\n",
    "\n",
    "# We can set the number of bins with the `bins` kwarg\n",
    "axs[0].hist(height, bins=n_bins)\n",
    "axs[1].hist(weight, bins=n_bins)"
   ]
  },
  {
   "cell_type": "markdown",
   "metadata": {},
   "source": [
    "## Scatter of Weight and Height"
   ]
  },
  {
   "cell_type": "code",
   "execution_count": 12,
   "metadata": {},
   "outputs": [
    {
     "data": {
      "text/plain": [
       "<matplotlib.collections.PathCollection at 0x1a3b088cbe0>"
      ]
     },
     "execution_count": 12,
     "metadata": {},
     "output_type": "execute_result"
    },
    {
     "data": {
      "image/png": "[encoded data removed]",
      "text/plain": [
       "<Figure size 432x288 with 1 Axes>"
      ]
     },
     "metadata": {},
     "output_type": "display_data"
    }
   ],
   "source": [
    "height = [i for _,i,_,_ in study]\n",
    "weight = [j for _,_,j,_ in study]\n",
    "rank = [k for k,_,_,_ in study]\n",
    "\n",
    "plt.scatter(height, weight)"
   ]
  },
  {
   "cell_type": "markdown",
   "metadata": {},
   "source": [
    "## Scatter of Weight vs Height, with Millionaires Highlighted"
   ]
  },
  {
   "cell_type": "code",
   "execution_count": 13,
   "metadata": {},
   "outputs": [
    {
     "data": {
      "text/plain": [
       "<matplotlib.collections.PathCollection at 0x1a3b08e9be0>"
      ]
     },
     "execution_count": 13,
     "metadata": {},
     "output_type": "execute_result"
    },
    {
     "data": {
      "image/png": "[encoded data removed]",
      "text/plain": [
       "<Figure size 432x288 with 1 Axes>"
      ]
     },
     "metadata": {},
     "output_type": "display_data"
    }
   ],
   "source": [
    "big_prize = 1*10**6\n",
    "\n",
    "height_M = [i for _,i,_,k in study if k >= big_prize]\n",
    "weight_M = [i for _,_,i,k in study if k >= big_prize]\n",
    "\n",
    "height_NM = [i for _,i,_,k in study if k < big_prize]\n",
    "weight_NM = [i for _,_,i,k in study if k < big_prize]\n",
    "\n",
    "labels = ['>1M' if k >= 10**6 else '<1M' for _,_,_,k in study]\n",
    "\n",
    "plt.scatter(height_M, weight_M, color = ['red'], marker = ',')\n",
    "plt.scatter(height_NM, weight_NM, color = ['blue'], marker = '.')"
   ]
  },
  {
   "cell_type": "markdown",
   "metadata": {},
   "source": [
    "## 2D Histogram of Weight and Height"
   ]
  },
  {
   "cell_type": "code",
   "execution_count": 14,
   "metadata": {},
   "outputs": [
    {
     "name": "stderr",
     "output_type": "stream",
     "text": [
      "C:\\Users\\Philippe\\Anaconda3\\lib\\site-packages\\matplotlib\\figure.py:2267: UserWarning: This figure includes Axes that are not compatible with tight_layout, so results might be incorrect.\n",
      "  warnings.warn(\"This figure includes Axes that are not compatible \"\n"
     ]
    },
    {
     "data": {
      "image/png": "[encoded data removed]",
      "text/plain": [
       "<Figure size 432x288 with 1 Axes>"
      ]
     },
     "metadata": {},
     "output_type": "display_data"
    }
   ],
   "source": [
    "fig, ax = plt.subplots(tight_layout=True)\n",
    "hist = ax.hist2d(height_M, weight_M)"
   ]
  },
  {
   "cell_type": "markdown",
   "metadata": {},
   "source": [
    "## Tree Classification of the Players"
   ]
  },
  {
   "cell_type": "code",
   "execution_count": 15,
   "metadata": {},
   "outputs": [
    {
     "name": "stdout",
     "output_type": "stream",
     "text": [
      "Average Accuracy\n",
      " Acc Tree: 0.8039056603773586\n",
      " Acc SVM: 0.834\n",
      " Acc Neigh: 0.8117169811320755\n",
      " Acc Gauss: 0.834\n",
      "Variance of the Accuracy\n",
      " Var Tree: 0.0012460131719473125\n",
      " Var SVM: 0.0011065133499466\n",
      " Var Neigh: 0.001189056247775009\n",
      " Var Gauss: 0.0011830530437878246\n"
     ]
    }
   ],
   "source": [
    "from sklearn import tree\n",
    "from sklearn import svm\n",
    "from sklearn.metrics import accuracy_score\n",
    "from sklearn import neighbors\n",
    "from sklearn.naive_bayes import GaussianNB\n",
    "from random import shuffle\n",
    "\n",
    "def predict_M(players, M, N):\n",
    "# Given a Height and a Weight, is the player gonna get more or less\n",
    "# than 1,000,000?\n",
    "# study := [rank, height, weight, prize]\n",
    "    acc_tree, acc_svm, acc_neigh, acc_gauss = [], [], [], []\n",
    "\n",
    "    for i in range(1, N+1):\n",
    "\n",
    "        study_shuffled = players[:]\n",
    "        shuffle(study_shuffled)\n",
    "        study_HW = [[i,j] for _,i,j,_ in study_shuffled]\n",
    "        study_M = ['>1M' if k >= M else '<1M' for _,_,_,k in study_shuffled]\n",
    "\n",
    "        test_size = int(0.1*len(study_HW))\n",
    "\n",
    "        # Train Set\n",
    "        study_HW_train = study_HW[0:(len(study_M)-test_size)]\n",
    "        study_M_train = study_M[0:(len(study_M)-test_size)]\n",
    "\n",
    "        # Test Set\n",
    "        study_HW_test = study_HW[(len(study_M)-test_size):(len(study_M)+1)]\n",
    "        study_M_test = study_M[(len(study_M)-test_size):(len(study_M)+1)]\n",
    "\n",
    "        # Creating the Classifiers\n",
    "        clf_tree = tree.DecisionTreeClassifier()\n",
    "        clf_svm = svm.SVC()\n",
    "        clf_neigh = neighbors.KNeighborsClassifier()\n",
    "        clf_gauss = GaussianNB()\n",
    "\n",
    "        # Fitting\n",
    "        clf_tree = clf_tree.fit(study_HW_train, study_M_train)\n",
    "        clf_svm = clf_svm.fit(study_HW_train, study_M_train)\n",
    "        clf_neigh = clf_neigh.fit(study_HW_train, study_M_train)\n",
    "        clf_gauss = clf_gauss.fit(study_HW_train, study_M_train)\n",
    "\n",
    "        # Predicting with the Test Set\n",
    "        pred_tree = clf_tree.predict(study_HW_test)\n",
    "        pred_svm = clf_svm.predict(study_HW_test)\n",
    "        pred_neigh = clf_neigh.predict(study_HW_test)\n",
    "        pred_gauss = clf_gauss.predict(study_HW_test)\n",
    "\n",
    "        # Checking the Accuracy with the Test Set\n",
    "        acc_tree.append(accuracy_score(study_M_test, pred_tree))\n",
    "        acc_svm.append(accuracy_score(study_M_test, pred_svm))\n",
    "        acc_neigh.append(accuracy_score(study_M_test, pred_neigh))\n",
    "        acc_gauss.append(accuracy_score(study_M_test, pred_gauss))\n",
    "        \n",
    "    # Calculating the averages\n",
    "    avg_tree = np.mean(acc_tree)\n",
    "    avg_svm = np.mean(acc_svm)\n",
    "    avg_neigh = np.mean(acc_neigh)\n",
    "    avg_gauss = np.mean(acc_gauss)\n",
    "    \n",
    "    # Calculating the variances\n",
    "    var_tree = np.var(acc_tree)\n",
    "    var_svm = np.var(acc_svm)\n",
    "    var_neigh = np.var(acc_neigh)\n",
    "    var_gauss = np.var(acc_gauss)\n",
    "    \n",
    "    return [[avg_tree, avg_svm, avg_neigh, avg_gauss], \n",
    "            [var_tree, var_svm, var_neigh, var_gauss]]\n",
    "\n",
    "# The accuracy of these models is terrible...\n",
    "# The tree is only geting 38%. Maybe more data (I have <200) could help...\n",
    "# And indeed it does!\n",
    "\n",
    "result = predict_M(study, 10**6, 500)\n",
    "\n",
    "print('Average Accuracy\\n',\n",
    "      f'Acc Tree: {result[0][0]}\\n',\n",
    "      f'Acc SVM: {result[0][1]}\\n',\n",
    "      f'Acc Neigh: {result[0][2]}\\n',\n",
    "      f'Acc Gauss: {result[0][3]}')\n",
    "\n",
    "print('Variance of the Accuracy\\n',\n",
    "      f'Var Tree: {result[1][0]}\\n',\n",
    "      f'Var SVM: {result[1][1]}\\n',\n",
    "      f'Var Neigh: {result[1][2]}\\n',\n",
    "      f'Var Gauss: {result[1][3]}')"
   ]
  },
  {
   "cell_type": "code",
   "execution_count": null,
   "metadata": {},
   "outputs": [],
   "source": []
  }
 ],
 "metadata": {
  "kernelspec": {
   "display_name": "Python 3",
   "language": "python",
   "name": "python3"
  },
  "language_info": {
   "codemirror_mode": {
    "name": "ipython",
    "version": 3
   },
   "file_extension": ".py",
   "mimetype": "text/x-python",
   "name": "python",
   "nbconvert_exporter": "python",
   "pygments_lexer": "ipython3",
   "version": "3.6.5"
  }
 },
 "nbformat": 4,
 "nbformat_minor": 2
}
