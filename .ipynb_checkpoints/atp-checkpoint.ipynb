{
 "cells": [
  {
   "cell_type": "markdown",
   "metadata": {},
   "source": [
    "# ATP"
   ]
  },
  {
   "cell_type": "markdown",
   "metadata": {},
   "source": [
    "## Data Scraping with BeautifulSoup"
   ]
  },
  {
   "cell_type": "code",
   "execution_count": 866,
   "metadata": {},
   "outputs": [],
   "source": [
    "import requests\n",
    "from bs4 import BeautifulSoup\n",
    "\n",
    "N = 20\n",
    "page_ranking = requests.get('https://www.atpworldtour.com/en/rankings/singles?rankDate=2018-08-27&rankRange=1-' \\\n",
    "                            + str(N))\n",
    "ranking = BeautifulSoup(page_ranking.content, 'html.parser')\n",
    "ranking_list = list(ranking.findAll('td', {'class':'player-cell'}))\n",
    "rank_url = []\n",
    "\n",
    "for i in range(0, N):\n",
    "    \n",
    "    a = str(list(ranking_list[i])[1])\n",
    "    b = 'https://www.atpworldtour.com' + \\\n",
    "        a[(a.find('href=\"')+6):(a.find('>')-1)].replace('overview','')\n",
    "    rank_url.append([i+1,b])    "
   ]
  },
  {
   "cell_type": "code",
   "execution_count": 941,
   "metadata": {},
   "outputs": [
    {
     "name": "stdout",
     "output_type": "stream",
     "text": [
      "   19\r"
     ]
    }
   ],
   "source": [
    "name, nat, age, birth, turned_pro, height, weight, plays, prize = [], [], [], [], [], [], [], [], []\n",
    "\n",
    "for i in range(0,N):\n",
    "    \n",
    "    page_plrstats = requests.get(rank_url[i][1] + 'player-stats')\n",
    "    plrstats = BeautifulSoup(page_plrstats.content, 'html.parser')\n",
    "    \n",
    "    # Name\n",
    "    try:\n",
    "        a = plrstats.findAll('h1', {'class':'page-title'})\n",
    "        b = str(a).replace(' ','')\n",
    "        c = b[(b.find('\\n')+1):(b.find('\\r\\n</h1>'))]\n",
    "        name.append([i+1,c])\n",
    "    except:\n",
    "        print('name',i)\n",
    "\n",
    "    # Nationality\n",
    "    try:\n",
    "        a = plrstats.findAll('div', {'class':'player-flag-code'})\n",
    "        b = str(a)\n",
    "        c = b[(b.find('>')+1):b.find('</')]\n",
    "        nat.append([i+1,c])\n",
    "    except:\n",
    "        print('nat',i)\n",
    "    \n",
    "    # Age\n",
    "    try:\n",
    "        a = plrstats.findAll('div', {'class':'table-big-value'})\n",
    "        b = list(list(a)[0])[0]\n",
    "        c = int(b[(b.find('\\n')+1):b.find(' ')])\n",
    "        age.append([i+1,c])\n",
    "    except:\n",
    "        print('age',i)\n",
    "    \n",
    "    # Birth\n",
    "    try:\n",
    "        a = plrstats.findAll('div', {'class':'table-big-value'})\n",
    "        b = str(list(list(a)[0])[1]).replace(' ','')\n",
    "        c = b[(b.find('(')+1):(b.find(')'))]\n",
    "        birth.append([i+1,c])\n",
    "    except:\n",
    "        print('birth',i)\n",
    "    \n",
    "    # Turned Pro\n",
    "    try:\n",
    "        a = plrstats.findAll('div', {'class':'table-big-value'})\n",
    "        b = str(list(a)[1]).replace(' ','')\n",
    "        c = int(b[(b.find('\\n')+1):(b.find('</div>'))])\n",
    "        turned_pro.append([i+1,c])\n",
    "    except:\n",
    "        print('turned pro',i)\n",
    "    \n",
    "    # Weight (kg)\n",
    "    try:\n",
    "        a = plrstats.findAll('span', {'class':'table-weight-kg-wrapper'})\n",
    "        b = str(a)\n",
    "        c = int(b[(b.find('(')+1):b.find('kg)')])\n",
    "        weight.append([i+1,c])\n",
    "    except:\n",
    "        print('weight',i)\n",
    "        \n",
    "    # Height (cm)\n",
    "    try:\n",
    "        a = plrstats.findAll('span', {'class':'table-height-cm-wrapper'})\n",
    "        b = str(a)\n",
    "        c = int(b[(b.find('(')+1):b.find('cm)')])\n",
    "        height.append([i+1,c])\n",
    "    except:\n",
    "        print('height',i)\n",
    "        \n",
    "    # Plays\n",
    "    try:\n",
    "        a = plrstats.findAll('div', {'class':'table-value'})\n",
    "        b = str(list(a)[2]).replace(' ','')\n",
    "        c = b[(b.find('\\n')+1):b.find('Backhand')]\n",
    "        plays.append([i+1,c])\n",
    "    except:\n",
    "        print('plays',i)\n",
    "        \n",
    "    page_plrstats = requests.get(rank_url[i][1] + 'overview')\n",
    "    plrstats = BeautifulSoup(page_plrstats.content, 'html.parser')\n",
    "        \n",
    "    # Prize Career\n",
    "    \n",
    "    try:\n",
    "        a = plrstats.findAll('div', {'class':'stat-value'})\n",
    "        b = str(list(a)[-1])\n",
    "        c = int(b[(b.find('singles=\"$')+10):b.find('\">')].replace(',',''))\n",
    "        prize.append([i+1,c])\n",
    "    except:\n",
    "        print('prize career',i)\n",
    "    \n",
    "    print('  ', i, end = '\\r')"
   ]
  },
  {
   "cell_type": "code",
   "execution_count": 942,
   "metadata": {},
   "outputs": [
    {
     "data": {
      "text/plain": [
       "[[1, 102326975],\n",
       " [2, 117507812],\n",
       " [3, 22518923],\n",
       " [4, 11555154],\n",
       " [5, 13486136],\n",
       " [6, 115310890],\n",
       " [7, 24534130],\n",
       " [8, 15704178],\n",
       " [9, 12625886],\n",
       " [10, 10534540],\n",
       " [11, 15745397],\n",
       " [12, 7425253],\n",
       " [13, 4699590],\n",
       " [14, 10835401],\n",
       " [15, 2008000],\n",
       " [16, 3705169],\n",
       " [17, 5621483],\n",
       " [18, 9294710],\n",
       " [19, 19286966],\n",
       " [20, 4200249]]"
      ]
     },
     "execution_count": 942,
     "metadata": {},
     "output_type": "execute_result"
    }
   ],
   "source": [
    "prize"
   ]
  },
  {
   "cell_type": "code",
   "execution_count": 940,
   "metadata": {},
   "outputs": [
    {
     "data": {
      "text/plain": [
       "117507812"
      ]
     },
     "execution_count": 940,
     "metadata": {},
     "output_type": "execute_result"
    }
   ],
   "source": [
    "page_plrstats = requests.get(rank_url[1][1] + 'overview')\n",
    "plrstats = BeautifulSoup(page_plrstats.content, 'html.parser')\n",
    "a = plrstats.findAll('div', {'class':'stat-value'})\n",
    "# a = plrstats.findAll('span', {'class':'table-height-cm-wrapper'})\n",
    "# b = str(a)\n",
    "# c = int(b[(b.find('(')+1):b.find('cm)')])\n",
    "b = str(list(a)[-1])\n",
    "c = int(b[(b.find('singles=\"$')+10):b.find('\">')].replace(',',''))\n",
    "c"
   ]
  },
  {
   "cell_type": "markdown",
   "metadata": {},
   "source": [
    "## Opening the Data from Parsehub"
   ]
  },
  {
   "cell_type": "code",
   "execution_count": 617,
   "metadata": {},
   "outputs": [],
   "source": [
    "import json\n",
    "\n",
    "with open('atp_1-1500.json', encoding = 'utf') as f:\n",
    "    contents = json.load(f)\n",
    "    \n",
    "plrs = contents['player']\n",
    "\n",
    "study = []\n",
    "for i in range(0, len(plrs)):\n",
    "    if 'height' in plrs[i].keys():\n",
    "        if 'weight' in plrs[i].keys():\n",
    "            if 'prize' in plrs[i].keys():\n",
    "                \n",
    "                rank = i + 1\n",
    "\n",
    "                prize = int(plrs[i]['prize'].replace('$','').replace(',',''))\n",
    "\n",
    "                pre_height = plrs[i]['height']\n",
    "                height = pre_height[pre_height.find('(') + 1:pre_height.find(')')]\n",
    "                height = int(height.split('c')[0])\n",
    "\n",
    "                pre_weight = plrs[i]['weight']\n",
    "                weight = pre_weight[pre_weight.find('(') + 1:pre_weight.find(')')]\n",
    "                weight = int(weight.split('k')[0])\n",
    "                \n",
    "                if height >= 50 and weight >= 50:\n",
    "                    study.append([rank, height, weight, prize])"
   ]
  },
  {
   "cell_type": "markdown",
   "metadata": {},
   "source": [
    "## Scatter of Rank vs Prize"
   ]
  },
  {
   "cell_type": "code",
   "execution_count": 618,
   "metadata": {
    "scrolled": false
   },
   "outputs": [
    {
     "data": {
      "text/plain": [
       "<matplotlib.collections.PathCollection at 0x18f31c53b38>"
      ]
     },
     "execution_count": 618,
     "metadata": {},
     "output_type": "execute_result"
    },
    {
     "data": {
      "image/png": "[encoded data removed]",
      "text/plain": [
       "<Figure size 432x288 with 1 Axes>"
      ]
     },
     "metadata": {},
     "output_type": "display_data"
    }
   ],
   "source": [
    "import numpy as np\n",
    "import matplotlib.pyplot as plt\n",
    "\n",
    "# Getting the filthy rich out\n",
    "cap = 40*10**6\n",
    "study_NFR = [[i,j,k,l] for i,j,k,l in study if l < cap]\n",
    "\n",
    "prize = [i/10**3 for _,_,_,i in study_NFR]\n",
    "weight = [j for _,_,j,_ in study_NFR]\n",
    "rank = [k for k,_,_,_ in study_NFR]\n",
    "\n",
    "plt.scatter(rank, prize)"
   ]
  },
  {
   "cell_type": "markdown",
   "metadata": {},
   "source": [
    "## Trying an Exp Fit"
   ]
  },
  {
   "cell_type": "code",
   "execution_count": 619,
   "metadata": {},
   "outputs": [
    {
     "data": {
      "text/plain": [
       "<matplotlib.collections.PathCollection at 0x18f31c06470>"
      ]
     },
     "execution_count": 619,
     "metadata": {},
     "output_type": "execute_result"
    },
    {
     "data": {
      "image/png": "[encoded data removed]",
      "text/plain": [
       "<Figure size 432x288 with 1 Axes>"
      ]
     },
     "metadata": {},
     "output_type": "display_data"
    }
   ],
   "source": [
    "prize = [10*i/10**3 if k <= 40 else i*10**3 for k,_,_,i in study_NFR]\n",
    "\n",
    "AB = np.polyfit(rank, np.log(prize),1)\n",
    "# y ≈ exp(AB[1]) * exp(AB[0] * x)\n",
    "exp_HW = [np.exp(AB[1])*np.exp(AB[0]*i) for i in range(0, len(rank))]\n",
    "\n",
    "plt.scatter(rank, exp_HW, color = ['green'])"
   ]
  },
  {
   "cell_type": "markdown",
   "metadata": {},
   "source": [
    "## Histogram of Height and Weight"
   ]
  },
  {
   "cell_type": "code",
   "execution_count": 620,
   "metadata": {},
   "outputs": [
    {
     "data": {
      "text/plain": [
       "(array([  1.,   0.,   9.,  11.,  26., 100.,  56., 174., 169., 146., 142.,\n",
       "        118.,  46.,  29.,  18.,   9.,   2.,   3.,   3.,   1.]),\n",
       " array([ 54. ,  56.7,  59.4,  62.1,  64.8,  67.5,  70.2,  72.9,  75.6,\n",
       "         78.3,  81. ,  83.7,  86.4,  89.1,  91.8,  94.5,  97.2,  99.9,\n",
       "        102.6, 105.3, 108. ]),\n",
       " <a list of 20 Patch objects>)"
      ]
     },
     "execution_count": 620,
     "metadata": {},
     "output_type": "execute_result"
    },
    {
     "name": "stderr",
     "output_type": "stream",
     "text": [
      "C:\\Users\\Philippe\\Anaconda3\\lib\\site-packages\\matplotlib\\figure.py:2267: UserWarning: This figure includes Axes that are not compatible with tight_layout, so results might be incorrect.\n",
      "  warnings.warn(\"This figure includes Axes that are not compatible \"\n"
     ]
    },
    {
     "data": {
      "image/png": "[encoded data removed]",
      "text/plain": [
       "<Figure size 432x288 with 2 Axes>"
      ]
     },
     "metadata": {},
     "output_type": "display_data"
    }
   ],
   "source": [
    "height = [i for _,i,_,_ in study]\n",
    "weight = [j for _,_,j,_ in study]\n",
    "rank = [k for k,_,_,_ in study]\n",
    "\n",
    "n_bins = 20\n",
    "\n",
    "fig, axs = plt.subplots(1, 2, sharey=True, tight_layout=True)\n",
    "\n",
    "# We can set the number of bins with the `bins` kwarg\n",
    "axs[0].hist(height, bins=n_bins)\n",
    "axs[1].hist(weight, bins=n_bins)"
   ]
  },
  {
   "cell_type": "markdown",
   "metadata": {},
   "source": [
    "## Scatter of Weight vs Height"
   ]
  },
  {
   "cell_type": "code",
   "execution_count": 621,
   "metadata": {
    "scrolled": false
   },
   "outputs": [
    {
     "data": {
      "text/plain": [
       "<matplotlib.collections.PathCollection at 0x18f32c37da0>"
      ]
     },
     "execution_count": 621,
     "metadata": {},
     "output_type": "execute_result"
    },
    {
     "data": {
      "image/png": "[encoded data removed]",
      "text/plain": [
       "<Figure size 432x288 with 1 Axes>"
      ]
     },
     "metadata": {},
     "output_type": "display_data"
    }
   ],
   "source": [
    "height = [i for _,i,_,_ in study]\n",
    "weight = [j for _,_,j,_ in study]\n",
    "rank = [k for k,_,_,_ in study]\n",
    "\n",
    "plt.scatter(height, weight)"
   ]
  },
  {
   "cell_type": "markdown",
   "metadata": {},
   "source": [
    "## Scatter of Weight vs Height, with Millionaires Highlighted"
   ]
  },
  {
   "cell_type": "code",
   "execution_count": 622,
   "metadata": {
    "scrolled": true
   },
   "outputs": [
    {
     "data": {
      "text/plain": [
       "<matplotlib.collections.PathCollection at 0x18f32d1ec18>"
      ]
     },
     "execution_count": 622,
     "metadata": {},
     "output_type": "execute_result"
    },
    {
     "data": {
      "image/png": "[encoded data removed]",
      "text/plain": [
       "<Figure size 432x288 with 1 Axes>"
      ]
     },
     "metadata": {},
     "output_type": "display_data"
    }
   ],
   "source": [
    "big_prize = 1*10**6\n",
    "\n",
    "height_M = [i for _,i,_,k in study if k >= big_prize]\n",
    "weight_M = [i for _,_,i,k in study if k >= big_prize]\n",
    "\n",
    "height_NM = [i for _,i,_,k in study if k < big_prize]\n",
    "weight_NM = [i for _,_,i,k in study if k < big_prize]\n",
    "\n",
    "labels = ['>1M' if k >= 10**6 else '<1M' for _,_,_,k in study]\n",
    "\n",
    "plt.scatter(height_M, weight_M, color = ['red'], marker = ',')\n",
    "plt.scatter(height_NM, weight_NM, color = ['blue'], marker = '.')"
   ]
  },
  {
   "cell_type": "markdown",
   "metadata": {},
   "source": [
    "## 2D Histogram of Weight and Height"
   ]
  },
  {
   "cell_type": "code",
   "execution_count": 623,
   "metadata": {},
   "outputs": [
    {
     "name": "stderr",
     "output_type": "stream",
     "text": [
      "C:\\Users\\Philippe\\Anaconda3\\lib\\site-packages\\matplotlib\\figure.py:2267: UserWarning: This figure includes Axes that are not compatible with tight_layout, so results might be incorrect.\n",
      "  warnings.warn(\"This figure includes Axes that are not compatible \"\n"
     ]
    },
    {
     "data": {
      "image/png": "[encoded data removed]",
      "text/plain": [
       "<Figure size 432x288 with 1 Axes>"
      ]
     },
     "metadata": {},
     "output_type": "display_data"
    }
   ],
   "source": [
    "fig, ax = plt.subplots(tight_layout=True)\n",
    "hist = ax.hist2d(height_M, weight_M)"
   ]
  },
  {
   "cell_type": "markdown",
   "metadata": {},
   "source": [
    "## Tree Classification of the Players"
   ]
  },
  {
   "cell_type": "code",
   "execution_count": 629,
   "metadata": {},
   "outputs": [
    {
     "name": "stdout",
     "output_type": "stream",
     "text": [
      "Acc Tree: 0.8020566037735849\n",
      " Acc SVM: 0.8326981132075472\n",
      " Acc Neigh: 0.8113207547169812\n",
      " Acc Gauss: 0.8320566037735849\n"
     ]
    }
   ],
   "source": [
    "from sklearn import tree\n",
    "from sklearn import svm\n",
    "from sklearn.metrics import accuracy_score\n",
    "from sklearn import neighbors\n",
    "from sklearn.naive_bayes import GaussianNB\n",
    "from random import shuffle\n",
    "\n",
    "def predict_M(players, M, N):\n",
    "# Given a Height and a Weight, is the player gonna get more or less\n",
    "# than 1,000,000?\n",
    "# study := [rank, height, weight, prize]\n",
    "    acc_tree, acc_svm, acc_neigh, acc_gauss = [], [], [], []\n",
    "\n",
    "    for i in range(1, N+1):\n",
    "\n",
    "        study_shuffled = players[:]\n",
    "        shuffle(study_shuffled)\n",
    "        study_HW = [[i,j] for _,i,j,_ in study_shuffled]\n",
    "        study_M = ['>1M' if k >= M else '<1M' for _,_,_,k in study_shuffled]\n",
    "\n",
    "        test_size = int(0.1*len(study_HW))\n",
    "\n",
    "        # Train Set\n",
    "        study_HW_train = study_HW[0:(len(study_M)-test_size)]\n",
    "        study_M_train = study_M[0:(len(study_M)-test_size)]\n",
    "\n",
    "        # Test Set\n",
    "        study_HW_test = study_HW[(len(study_M)-test_size):(len(study_M)+1)]\n",
    "        study_M_test = study_M[(len(study_M)-test_size):(len(study_M)+1)]\n",
    "\n",
    "        # Creating the Classifiers\n",
    "        clf_tree = tree.DecisionTreeClassifier()\n",
    "        clf_svm = svm.SVC()\n",
    "        clf_neigh = neighbors.KNeighborsClassifier()\n",
    "        clf_gauss = GaussianNB()\n",
    "\n",
    "        # Fitting\n",
    "        clf_tree = clf_tree.fit(study_HW_train, study_M_train)\n",
    "        clf_svm = clf_svm.fit(study_HW_train, study_M_train)\n",
    "        clf_neigh = clf_neigh.fit(study_HW_train, study_M_train)\n",
    "        clf_gauss = clf_gauss.fit(study_HW_train, study_M_train)\n",
    "\n",
    "        # Predicting with the Test Set\n",
    "        pred_tree = clf_tree.predict(study_HW_test)\n",
    "        pred_svm = clf_svm.predict(study_HW_test)\n",
    "        pred_neigh = clf_neigh.predict(study_HW_test)\n",
    "        pred_gauss = clf_gauss.predict(study_HW_test)\n",
    "\n",
    "        # Checking the Accuracy with the Test Set\n",
    "        acc_tree.append(accuracy_score(study_M_test, pred_tree))\n",
    "        acc_svm.append(accuracy_score(study_M_test, pred_svm))\n",
    "        acc_neigh.append(accuracy_score(study_M_test, pred_neigh))\n",
    "        acc_gauss.append(accuracy_score(study_M_test, pred_gauss))\n",
    "        \n",
    "    # Calculating the averages\n",
    "    avg_tree = np.mean(acc_tree)\n",
    "    avg_svm = np.mean(acc_svm)\n",
    "    avg_neigh = np.mean(acc_neigh)\n",
    "    avg_gauss = np.mean(acc_gauss)\n",
    "    \n",
    "    return [avg_tree, avg_svm, avg_neigh, avg_gauss]\n",
    "\n",
    "# The accuracy of these models is terrible...\n",
    "# The tree is only geting 38%. Maybe more data (I have <200) could help...\n",
    "# And indeed it does!\n",
    "\n",
    "result = predict_M(study, 10**6, 500)\n",
    "\n",
    "print(f'Acc Tree: {result[0]}\\n',\n",
    "      f'Acc SVM: {result[1]}\\n',\n",
    "      f'Acc Neigh: {result[2]}\\n',\n",
    "      f'Acc Gauss: {result[3]}')"
   ]
  },
  {
   "cell_type": "code",
   "execution_count": null,
   "metadata": {},
   "outputs": [],
   "source": []
  }
 ],
 "metadata": {
  "kernelspec": {
   "display_name": "Python 3",
   "language": "python",
   "name": "python3"
  },
  "language_info": {
   "codemirror_mode": {
    "name": "ipython",
    "version": 3
   },
   "file_extension": ".py",
   "mimetype": "text/x-python",
   "name": "python",
   "nbconvert_exporter": "python",
   "pygments_lexer": "ipython3",
   "version": "3.6.5"
  }
 },
 "nbformat": 4,
 "nbformat_minor": 2
}
